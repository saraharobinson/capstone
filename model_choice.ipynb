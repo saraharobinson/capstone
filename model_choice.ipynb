{
 "cells": [
  {
   "cell_type": "markdown",
   "metadata": {
    "colab_type": "text",
    "id": "1jYIUvyrGkgX"
   },
   "source": [
    "# Model testing and choosing\n",
    "trying 5 different regressions with 4 different scalers to choose the best one to tune up.\n",
    "\n"
   ]
  },
  {
   "cell_type": "code",
   "execution_count": null,
   "metadata": {
    "colab": {
     "base_uri": "https://localhost:8080/",
     "height": 208
    },
    "colab_type": "code",
    "id": "F3f3XcW5GkgJ",
    "outputId": "a59c9d21-9fa5-4217-b5d2-d0c76475d858"
   },
   "outputs": [],
   "source": [
    "import pandas as pd\n",
    "import numpy as np\n",
    "#import seaborn as sns\n",
    "import random\n",
    "import pickle\n"
   ]
  },
  {
   "cell_type": "code",
   "execution_count": null,
   "metadata": {
    "colab": {},
    "colab_type": "code",
    "id": "AedWYYH2GkiR"
   },
   "outputs": [],
   "source": [
    "\n",
    "from sklearn.model_selection import GridSearchCV, RandomizedSearchCV"
   ]
  },
  {
   "cell_type": "code",
   "execution_count": null,
   "metadata": {
    "colab": {},
    "colab_type": "code",
    "id": "sgYAUey_GkgZ"
   },
   "outputs": [],
   "source": [
    "\n",
    "import matplotlib.pyplot as plt\n",
    "from sklearn import linear_model\n",
    "\n",
    "from sklearn.model_selection import train_test_split\n",
    "from sklearn.preprocessing import MinMaxScaler, StandardScaler, PolynomialFeatures\n",
    "from sklearn.decomposition import PCA"
   ]
  },
  {
   "cell_type": "code",
   "execution_count": null,
   "metadata": {
    "colab": {},
    "colab_type": "code",
    "id": "YjsCJsXgGkh1"
   },
   "outputs": [],
   "source": [
    "from sklearn.ensemble import RandomForestRegressor\n"
   ]
  },
  {
   "cell_type": "code",
   "execution_count": 5,
   "metadata": {
    "colab": {
     "base_uri": "https://localhost:8080/",
     "height": 123
    },
    "colab_type": "code",
    "id": "48Gj2a3WwOXY",
    "outputId": "474e5320-29c4-49b6-e317-1c652989d7ae"
   },
   "outputs": [
    {
     "name": "stdout",
     "output_type": "stream",
     "text": [
      "Go to this URL in a browser: https://accounts.google.com/o/oauth2/auth?client_id=947318989803-6bn6qk8qdgf4n4g3pfee6491hc0brc4i.apps.googleusercontent.com&redirect_uri=urn%3Aietf%3Awg%3Aoauth%3A2.0%3Aoob&scope=email%20https%3A%2F%2Fwww.googleapis.com%2Fauth%2Fdocs.test%20https%3A%2F%2Fwww.googleapis.com%2Fauth%2Fdrive%20https%3A%2F%2Fwww.googleapis.com%2Fauth%2Fdrive.photos.readonly%20https%3A%2F%2Fwww.googleapis.com%2Fauth%2Fpeopleapi.readonly&response_type=code\n",
      "\n",
      "Enter your authorization code:\n",
      "··········\n",
      "Mounted at /content/gdrive\n"
     ]
    }
   ],
   "source": [
    "# from google.colab import drive\n",
    "# drive.mount('/content/gdrive')\n"
   ]
  },
  {
   "cell_type": "code",
   "execution_count": null,
   "metadata": {
    "colab": {},
    "colab_type": "code",
    "id": "yg6bz-UpIU6J"
   },
   "outputs": [],
   "source": [
    "# from google.colab import files\n",
    "\n",
    "# #define function to save models locally after they have run\n",
    "# def save_model(model, string):\n",
    "#   filename = string + '.sav'\n",
    "#   pickle.dump(model, open(filename, 'wb'))\n",
    "#   files.download(filename)\n",
    "  \n",
    "  \n",
    "#   print(filename, ' has been saved to drive!')"
   ]
  },
  {
   "cell_type": "code",
   "execution_count": null,
   "metadata": {
    "colab": {},
    "colab_type": "code",
    "id": "ynR8YDZoNa_5"
   },
   "outputs": [],
   "source": [
    "import warnings\n",
    "warnings.simplefilter(action='ignore', category=FutureWarning)"
   ]
  },
  {
   "cell_type": "markdown",
   "metadata": {
    "colab_type": "text",
    "id": "o3ndNKlAfEF6"
   },
   "source": [
    "### Preprocessing "
   ]
  },
  {
   "cell_type": "code",
   "execution_count": null,
   "metadata": {
    "colab": {},
    "colab_type": "code",
    "id": "k9rHsG8pGkgP"
   },
   "outputs": [],
   "source": [
    "#import file\n",
    "data= pd.read_csv('gdrive/My Drive/Colab Notebooks/county_df.csv')\n",
    "data.drop(columns = \"smallbrew_per_capita\", inplace = True)"
   ]
  },
  {
   "cell_type": "code",
   "execution_count": null,
   "metadata": {
    "colab": {},
    "colab_type": "code",
    "id": "QFILhvhFsWeF"
   },
   "outputs": [],
   "source": [
    "data.set_index(['Area','County','Year'], inplace = True)\n",
    "#convert all to numeric\n",
    "data = data.apply(pd.to_numeric, errors = 'coerce')\n",
    "#save dataframe for later just i\n",
    "save = data\n"
   ]
  },
  {
   "cell_type": "code",
   "execution_count": null,
   "metadata": {
    "colab": {},
    "colab_type": "code",
    "id": "WgMjkgnkrcPY"
   },
   "outputs": [],
   "source": [
    "data.reset_index(inplace = True)"
   ]
  },
  {
   "cell_type": "code",
   "execution_count": null,
   "metadata": {
    "colab": {},
    "colab_type": "code",
    "id": "QN7QWMlEn2Pg"
   },
   "outputs": [],
   "source": [
    "\n",
    "from sklearn.preprocessing import QuantileTransformer, OneHotEncoder, RobustScaler, MinMaxScaler, StandardScaler\n",
    "from sklearn.pipeline import Pipeline, make_pipeline\n",
    "#from sklearn.imputer import SimpleImputer\n",
    "from sklearn.compose import ColumnTransformer, make_column_transformer"
   ]
  },
  {
   "cell_type": "code",
   "execution_count": null,
   "metadata": {
    "colab": {},
    "colab_type": "code",
    "id": "oDS98o17fiNv"
   },
   "outputs": [],
   "source": [
    "from sklearn.metrics import mean_squared_error, r2_score, median_absolute_error, mean_absolute_error\n",
    "def adjusted_r2(train, r2):\n",
    "  adj_r2 = 1 - (1 - r2) * ((train.shape[0] - 1) / (train.shape[0] - train.shape[1] - 1))\n",
    "  return adj_r2\n",
    "\n"
   ]
  },
  {
   "cell_type": "code",
   "execution_count": null,
   "metadata": {
    "colab": {},
    "colab_type": "code",
    "id": "C4T3wDMpE7D_"
   },
   "outputs": [],
   "source": [
    "def scaler_test(model, model_string, scalers, scaler_strings, data_X, data_y, results_list):\n",
    "  \n",
    "  for i in range(len(scalers)):\n",
    "    \n",
    "    #scale data_X\n",
    "    X_scaled = scalers[i].fit_transform(data_X)\n",
    "    \n",
    "    #split into training and testing data\n",
    "    X_train, X_test, y_train, y_test = train_test_split(X_scaled, data_y, test_size=0.2, random_state=42)\n",
    "\n",
    "    #fit model on training data\n",
    "    model.fit(X_train, y_train)\n",
    "\n",
    "    #test on testing data\n",
    "    y_pred = model.predict(X_test)\n",
    "  \n",
    "    #calculate metrics \n",
    "\n",
    "    r2 = r2_score(y_test, y_pred)\n",
    "    adj_r2 = adjusted_r2(X_train, r2)\n",
    "    mse = mean_squared_error(y_test, y_pred)\n",
    "    rmse = np.sqrt(mse)\n",
    "    mae = mean_absolute_error(y_test, y_pred)\n",
    "\n",
    "    results.append([model_string,scaler_strings[i], adj_r2, rmse, mae])\n",
    "    \n",
    "    print('Results for ', model_string, ' using ', scaler_strings[i])\n",
    "    print('adjusted r2: %.2f' % adj_r2)\n",
    "    print('RMSE: %.2f' % rmse)\n",
    "    print('MAE: %.2f' % mae)\n",
    "    print('...................')\n",
    "    "
   ]
  },
  {
   "cell_type": "markdown",
   "metadata": {
    "colab_type": "text",
    "id": "q4CldIWnnePY"
   },
   "source": [
    "###Elastic Net"
   ]
  },
  {
   "cell_type": "code",
   "execution_count": 141,
   "metadata": {
    "colab": {
     "base_uri": "https://localhost:8080/",
     "height": 360
    },
    "colab_type": "code",
    "id": "9WmP3VGcnePZ",
    "outputId": "87b79a17-78f6-460a-ce97-87b0deeae412"
   },
   "outputs": [
    {
     "name": "stdout",
     "output_type": "stream",
     "text": [
      "Results for  enet  using  minmax\n",
      "adjusted r2: -0.01\n",
      "RMSE: 2.84\n",
      "MAE: 1.17\n",
      "...................\n",
      "Results for  enet  using  ss\n",
      "adjusted r2: 0.58\n",
      "RMSE: 1.82\n",
      "MAE: 0.83\n",
      "...................\n",
      "Results for  enet  using  robust\n",
      "adjusted r2: 0.66\n",
      "RMSE: 1.65\n",
      "MAE: 0.77\n",
      "...................\n",
      "Results for  enet  using  qt\n",
      "adjusted r2: -0.01\n",
      "RMSE: 2.84\n",
      "MAE: 1.17\n",
      "...................\n"
     ]
    }
   ],
   "source": [
    "results = []\n",
    "\n",
    "enet = linear_model.ElasticNet()\n",
    "data_X = data.drop(columns = ['Area', 'Breweries_Small'])\n",
    "data_X = data_X.apply(pd.to_numeric, errors = 'coerce').astype(float)\n",
    "data_y = data['Breweries_Small']\n",
    "\n",
    "scalers = [minmax, ss, robust, qt]\n",
    "scaler_strings = ['minmax', 'ss', 'robust', 'qt']\n",
    "\n",
    "scaler_test(enet, 'enet', scalers, scaler_strings, data_X, data_y, results)"
   ]
  },
  {
   "cell_type": "markdown",
   "metadata": {
    "colab_type": "text",
    "id": "HLb9zUWlJ3Ec"
   },
   "source": [
    "### Ridge Regression: "
   ]
  },
  {
   "cell_type": "code",
   "execution_count": 142,
   "metadata": {
    "colab": {
     "base_uri": "https://localhost:8080/",
     "height": 360
    },
    "colab_type": "code",
    "id": "7bd1yhLNJ1oi",
    "outputId": "fdb0b58b-83b0-464e-9006-afd1dee3c3b3"
   },
   "outputs": [
    {
     "name": "stdout",
     "output_type": "stream",
     "text": [
      "Results for  ridge  using  minmax\n",
      "adjusted r2: 0.76\n",
      "RMSE: 1.39\n",
      "MAE: 0.74\n",
      "...................\n",
      "Results for  ridge  using  ss\n",
      "adjusted r2: 0.76\n",
      "RMSE: 1.40\n",
      "MAE: 0.74\n",
      "...................\n",
      "Results for  ridge  using  robust\n",
      "adjusted r2: 0.76\n",
      "RMSE: 1.40\n",
      "MAE: 0.74\n",
      "...................\n",
      "Results for  ridge  using  qt\n",
      "adjusted r2: 0.47\n",
      "RMSE: 2.05\n",
      "MAE: 0.91\n",
      "...................\n"
     ]
    }
   ],
   "source": [
    "ridge = linear_model.Ridge()\n",
    "\n",
    "#data_X = data.drop(columns = ['Area', 'Breweries_Small'])\n",
    "#data_y = data['Breweries_Small']\n",
    "\n",
    "scalers = [minmax, ss, robust, qt]\n",
    "scaler_strings = ['minmax', 'ss', 'robust', 'qt']\n",
    "\n",
    "scaler_test(ridge, 'ridge', scalers, scaler_strings, data_X, data_y, results)"
   ]
  },
  {
   "cell_type": "markdown",
   "metadata": {
    "colab_type": "text",
    "id": "fZoWru68Gkg-"
   },
   "source": [
    "### Linear Regression: "
   ]
  },
  {
   "cell_type": "code",
   "execution_count": 143,
   "metadata": {
    "colab": {
     "base_uri": "https://localhost:8080/",
     "height": 360
    },
    "colab_type": "code",
    "id": "8H8G1p2LKmPP",
    "outputId": "14c83f78-03d9-406b-a3db-60a221785597"
   },
   "outputs": [
    {
     "name": "stdout",
     "output_type": "stream",
     "text": [
      "Results for  linreg  using  minmax\n",
      "adjusted r2: 0.76\n",
      "RMSE: 1.40\n",
      "MAE: 0.75\n",
      "...................\n",
      "Results for  linreg  using  ss\n",
      "adjusted r2: 0.76\n",
      "RMSE: 1.40\n",
      "MAE: 0.74\n",
      "...................\n",
      "Results for  linreg  using  robust\n",
      "adjusted r2: 0.75\n",
      "RMSE: 1.40\n",
      "MAE: 0.74\n",
      "...................\n",
      "Results for  linreg  using  qt\n",
      "adjusted r2: 0.47\n",
      "RMSE: 2.05\n",
      "MAE: 0.91\n",
      "...................\n"
     ]
    }
   ],
   "source": [
    "linreg = linear_model.LinearRegression()\n",
    "\n",
    "#data_X = data.drop(columns = ['Area', 'Breweries_Small'])\n",
    "#data_y = data['Breweries_Small']\n",
    "\n",
    "scalers = [minmax, ss, robust, qt]\n",
    "scaler_strings = ['minmax', 'ss', 'robust', 'qt']\n",
    "\n",
    "scaler_test(linreg, 'linreg', scalers, scaler_strings, data_X, data_y, results)"
   ]
  },
  {
   "cell_type": "markdown",
   "metadata": {
    "colab_type": "text",
    "id": "mkzYIgb7M6-W"
   },
   "source": [
    "### SVM"
   ]
  },
  {
   "cell_type": "code",
   "execution_count": 145,
   "metadata": {
    "colab": {
     "base_uri": "https://localhost:8080/",
     "height": 360
    },
    "colab_type": "code",
    "id": "vOdM37_viuVT",
    "outputId": "00222179-c359-40f0-da2e-c74be29cca89"
   },
   "outputs": [
    {
     "name": "stdout",
     "output_type": "stream",
     "text": [
      "Results for  svr  using  minmax\n",
      "adjusted r2: 0.42\n",
      "RMSE: 2.16\n",
      "MAE: 0.75\n",
      "...................\n",
      "Results for  svr  using  ss\n",
      "adjusted r2: 0.23\n",
      "RMSE: 2.48\n",
      "MAE: 0.73\n",
      "...................\n",
      "Results for  svr  using  robust\n",
      "adjusted r2: 0.22\n",
      "RMSE: 2.49\n",
      "MAE: 0.72\n",
      "...................\n",
      "Results for  svr  using  qt\n",
      "adjusted r2: 0.33\n",
      "RMSE: 2.31\n",
      "MAE: 0.74\n",
      "...................\n"
     ]
    }
   ],
   "source": [
    "from sklearn.svm import SVR\n",
    "svr = SVR()\n",
    "\n",
    "scalers = [minmax, ss, robust, qt]\n",
    "scaler_strings = ['minmax', 'ss', 'robust', 'qt']\n",
    "\n",
    "scaler_test(svr, 'svr', scalers, scaler_strings, data_X, data_y, results)"
   ]
  },
  {
   "cell_type": "markdown",
   "metadata": {
    "colab_type": "text",
    "id": "l9oYqzO5Gkhz"
   },
   "source": [
    "### Random Forests"
   ]
  },
  {
   "cell_type": "code",
   "execution_count": null,
   "metadata": {
    "colab": {},
    "colab_type": "code",
    "id": "xASK7QvZGkh4"
   },
   "outputs": [],
   "source": [
    "data_y = data.Breweries_Small\n",
    "data_X = data.drop(['Breweries_Small', 'Area'], axis = 1)\n",
    "\n",
    "X_train, X_test, y_train, y_test = train_test_split(data_X, data_y, test_size=0.2, random_state=42)\n",
    "\n",
    "forest_reg = RandomForestRegressor()\n",
    "forest_reg.fit(X_train, y_train)\n",
    "y_pred = forest_reg.predict(X_test)"
   ]
  },
  {
   "cell_type": "code",
   "execution_count": 148,
   "metadata": {
    "colab": {
     "base_uri": "https://localhost:8080/",
     "height": 68
    },
    "colab_type": "code",
    "id": "tpVQKj8vGkiO",
    "outputId": "5625faae-b993-479e-dd43-5bd7e4195e73"
   },
   "outputs": [
    {
     "name": "stdout",
     "output_type": "stream",
     "text": [
      "adjusted r2: 0.75\n",
      "RMSE: 1.41\n",
      "MAE: 0.61\n"
     ]
    }
   ],
   "source": [
    "#calculate metrics \n",
    "\n",
    "r2 = r2_score(y_test, y_pred)\n",
    "adj_r2 = adjusted_r2(X_train, r2)\n",
    "mse = mean_squared_error(y_test, y_pred)\n",
    "rmse = np.sqrt(mse)\n",
    "mae = mean_absolute_error(y_test, y_pred)\n",
    "\n",
    "results.append(['forest','none', adj_r2, rmse, mae])\n",
    "\n",
    "print('adjusted r2: %.2f' % adj_r2)\n",
    "print('RMSE: %.2f' % rmse)\n",
    "print('MAE: %.2f' % mae)\n",
    "\n"
   ]
  },
  {
   "cell_type": "code",
   "execution_count": null,
   "metadata": {
    "colab": {},
    "colab_type": "code",
    "id": "d7BCGwQjliw_"
   },
   "outputs": [],
   "source": [
    "columns = ['Model', 'scaler', 'adjusted_r2', 'RMSE', 'MSE']\n",
    "results_df = pd.DataFrame(results, columns = columns)"
   ]
  },
  {
   "cell_type": "code",
   "execution_count": 153,
   "metadata": {
    "colab": {
     "base_uri": "https://localhost:8080/",
     "height": 232
    },
    "colab_type": "code",
    "id": "oDJbix0S704x",
    "outputId": "2c09ee38-4456-4a1c-c96c-5dcb0ed750f0"
   },
   "outputs": [
    {
     "data": {
      "text/html": [
       "<div>\n",
       "<style scoped>\n",
       "    .dataframe tbody tr th:only-of-type {\n",
       "        vertical-align: middle;\n",
       "    }\n",
       "\n",
       "    .dataframe tbody tr th {\n",
       "        vertical-align: top;\n",
       "    }\n",
       "\n",
       "    .dataframe thead th {\n",
       "        text-align: right;\n",
       "    }\n",
       "</style>\n",
       "<table border=\"1\" class=\"dataframe\">\n",
       "  <thead>\n",
       "    <tr style=\"text-align: right;\">\n",
       "      <th></th>\n",
       "      <th>scaler</th>\n",
       "      <th>adjusted_r2</th>\n",
       "      <th>RMSE</th>\n",
       "      <th>MSE</th>\n",
       "    </tr>\n",
       "    <tr>\n",
       "      <th>Model</th>\n",
       "      <th></th>\n",
       "      <th></th>\n",
       "      <th></th>\n",
       "      <th></th>\n",
       "    </tr>\n",
       "  </thead>\n",
       "  <tbody>\n",
       "    <tr>\n",
       "      <th>forest</th>\n",
       "      <td>none</td>\n",
       "      <td>0.749962</td>\n",
       "      <td>1.412813</td>\n",
       "      <td>0.607421</td>\n",
       "    </tr>\n",
       "    <tr>\n",
       "      <th>svr</th>\n",
       "      <td>robust</td>\n",
       "      <td>0.220482</td>\n",
       "      <td>2.494564</td>\n",
       "      <td>0.719835</td>\n",
       "    </tr>\n",
       "    <tr>\n",
       "      <th>ridge</th>\n",
       "      <td>minmax</td>\n",
       "      <td>0.758974</td>\n",
       "      <td>1.387118</td>\n",
       "      <td>0.740121</td>\n",
       "    </tr>\n",
       "    <tr>\n",
       "      <th>linreg</th>\n",
       "      <td>robust</td>\n",
       "      <td>0.752744</td>\n",
       "      <td>1.404931</td>\n",
       "      <td>0.743074</td>\n",
       "    </tr>\n",
       "    <tr>\n",
       "      <th>enet</th>\n",
       "      <td>robust</td>\n",
       "      <td>0.658944</td>\n",
       "      <td>1.650039</td>\n",
       "      <td>0.766556</td>\n",
       "    </tr>\n",
       "  </tbody>\n",
       "</table>\n",
       "</div>"
      ],
      "text/plain": [
       "        scaler  adjusted_r2      RMSE       MSE\n",
       "Model                                          \n",
       "forest    none     0.749962  1.412813  0.607421\n",
       "svr     robust     0.220482  2.494564  0.719835\n",
       "ridge   minmax     0.758974  1.387118  0.740121\n",
       "linreg  robust     0.752744  1.404931  0.743074\n",
       "enet    robust     0.658944  1.650039  0.766556"
      ]
     },
     "execution_count": 153,
     "metadata": {
      "tags": []
     },
     "output_type": "execute_result"
    }
   ],
   "source": [
    "top = results_df.loc[results_df.groupby(\"Model\")[\"MSE\"].idxmin()]\n",
    "top.set_index('Model', inplace = True)\n",
    "top.sort_values('MSE')"
   ]
  },
  {
   "cell_type": "markdown",
   "metadata": {
    "colab_type": "text",
    "id": "p8ihjN_8Gki0"
   },
   "source": [
    "#### random search cv"
   ]
  },
  {
   "cell_type": "code",
   "execution_count": null,
   "metadata": {
    "colab": {
     "base_uri": "https://localhost:8080/",
     "height": 104
    },
    "colab_type": "code",
    "id": "Pp2RHEcUGkiw",
    "outputId": "158837ad-39ab-418a-f6ce-b482f191fa84"
   },
   "outputs": [
    {
     "name": "stderr",
     "output_type": "stream",
     "text": [
      "/usr/local/lib/python3.6/dist-packages/sklearn/preprocessing/data.py:625: DataConversionWarning: Data with input dtype int64, float64 were all converted to float64 by StandardScaler.\n",
      "  return self.partial_fit(X, y)\n",
      "/usr/local/lib/python3.6/dist-packages/sklearn/base.py:462: DataConversionWarning: Data with input dtype int64, float64 were all converted to float64 by StandardScaler.\n",
      "  return self.fit(X, **fit_params).transform(X)\n"
     ]
    }
   ],
   "source": [
    "data_Y = data.Breweries_Small\n",
    "data_X = data.drop('Breweries_Small', axis = 1)\n",
    "ss_scaler = StandardScaler()\n",
    "data_X = ss_scaler.fit_transform(data_X)"
   ]
  },
  {
   "cell_type": "code",
   "execution_count": null,
   "metadata": {
    "colab": {},
    "colab_type": "code",
    "id": "nNvL3dC3QBpc"
   },
   "outputs": [],
   "source": []
  },
  {
   "cell_type": "code",
   "execution_count": null,
   "metadata": {
    "colab": {},
    "colab_type": "code",
    "id": "HOnaSmtjuVd9"
   },
   "outputs": [],
   "source": [
    "X_train, X_test, y_train, y_test = train_test_split(data_X, data_y, test_size=0.2, random_state=42)"
   ]
  },
  {
   "cell_type": "code",
   "execution_count": null,
   "metadata": {
    "colab": {},
    "colab_type": "code",
    "id": "NF0xV7zGGki1"
   },
   "outputs": [],
   "source": [
    "# Number of trees in random forest\n",
    "n_estimators = [int(x) for x in np.linspace(start = 20, stop = 200, num = 15)]\n",
    "# Number of features to consider at every split\n",
    "max_features = ['auto', 'sqrt']\n",
    "# Maximum number of levels in tree\n",
    "max_depth = [int(x) for x in np.linspace(10, 110, num = 11)]\n",
    "max_depth.append(None)\n",
    "# Minimum number of samples required to split a node\n",
    "min_samples_split = [2, 5, 10, 15]\n",
    "# Minimum number of samples required at each leaf node\n",
    "min_samples_leaf = [2, 4, 6]\n",
    "# Method of selecting samples for training each tree\n",
    "bootstrap = [True, False]\n",
    "# Create the random grid\n",
    "random_grid = {'n_estimators': n_estimators,\n",
    "               'max_features': max_features,\n",
    "               'max_depth': max_depth,\n",
    "               'min_samples_split': min_samples_split,\n",
    "               'min_samples_leaf': min_samples_leaf,\n",
    "               'bootstrap': bootstrap}"
   ]
  },
  {
   "cell_type": "code",
   "execution_count": null,
   "metadata": {
    "colab": {},
    "colab_type": "code",
    "id": "66urUJHEGQCl"
   },
   "outputs": [],
   "source": [
    "forest_reg = RandomForestRegressor()"
   ]
  },
  {
   "cell_type": "code",
   "execution_count": null,
   "metadata": {
    "colab": {},
    "colab_type": "code",
    "id": "LmWbf3PnGki9"
   },
   "outputs": [],
   "source": [
    "random_search = RandomizedSearchCV(forest_reg, random_grid,n_iter = 20, cv = 5, verbose=4, random_state=42, n_jobs = -1)"
   ]
  },
  {
   "cell_type": "code",
   "execution_count": null,
   "metadata": {
    "colab": {
     "base_uri": "https://localhost:8080/",
     "height": 304
    },
    "colab_type": "code",
    "id": "PM2kfaH3GkjB",
    "outputId": "10a4b910-9a6d-455c-f90c-ce6004c320a4"
   },
   "outputs": [
    {
     "name": "stdout",
     "output_type": "stream",
     "text": [
      "Fitting 5 folds for each of 20 candidates, totalling 100 fits\n"
     ]
    },
    {
     "name": "stderr",
     "output_type": "stream",
     "text": [
      "[Parallel(n_jobs=-1)]: Using backend LokyBackend with 2 concurrent workers.\n",
      "[Parallel(n_jobs=-1)]: Done  21 tasks      | elapsed:  2.1min\n",
      "[Parallel(n_jobs=-1)]: Done  94 tasks      | elapsed: 10.7min\n",
      "[Parallel(n_jobs=-1)]: Done 100 out of 100 | elapsed: 11.5min finished\n"
     ]
    },
    {
     "data": {
      "text/plain": [
       "RandomizedSearchCV(cv=5, error_score='raise-deprecating',\n",
       "          estimator=RandomForestRegressor(bootstrap=True, criterion='mse', max_depth=None,\n",
       "           max_features='auto', max_leaf_nodes=None,\n",
       "           min_impurity_decrease=0.0, min_impurity_split=None,\n",
       "           min_samples_leaf=1, min_samples_split=2,\n",
       "           min_weight_fraction_leaf=0.0, n_estimators='warn', n_jobs=None,\n",
       "           oob_score=False, random_state=None, verbose=0, warm_start=False),\n",
       "          fit_params=None, iid='warn', n_iter=20, n_jobs=-1,\n",
       "          param_distributions={'n_estimators': [20, 32, 45, 58, 71, 84, 97, 110, 122, 135, 148, 161, 174, 187, 200], 'max_features': ['auto', 'sqrt'], 'max_depth': [10, 20, 30, 40, 50, 60, 70, 80, 90, 100, 110, None], 'min_samples_split': [2, 5, 10, 15], 'min_samples_leaf': [2, 4, 6], 'bootstrap': [True, False]},\n",
       "          pre_dispatch='2*n_jobs', random_state=42, refit=True,\n",
       "          return_train_score='warn', scoring=None, verbose=4)"
      ]
     },
     "execution_count": 66,
     "metadata": {
      "tags": []
     },
     "output_type": "execute_result"
    }
   ],
   "source": [
    "random_search.fit(X_train, y_train)\n"
   ]
  },
  {
   "cell_type": "code",
   "execution_count": null,
   "metadata": {
    "colab": {
     "base_uri": "https://localhost:8080/",
     "height": 117
    },
    "colab_type": "code",
    "id": "WkCLY2EOGkjF",
    "outputId": "5d351562-301c-4912-c97c-e774b2aff7da"
   },
   "outputs": [
    {
     "data": {
      "text/plain": [
       "RandomForestRegressor(bootstrap=False, criterion='mse', max_depth=30,\n",
       "           max_features='sqrt', max_leaf_nodes=None,\n",
       "           min_impurity_decrease=0.0, min_impurity_split=None,\n",
       "           min_samples_leaf=4, min_samples_split=10,\n",
       "           min_weight_fraction_leaf=0.0, n_estimators=32, n_jobs=None,\n",
       "           oob_score=False, random_state=None, verbose=0, warm_start=False)"
      ]
     },
     "execution_count": 67,
     "metadata": {
      "tags": []
     },
     "output_type": "execute_result"
    }
   ],
   "source": [
    "random_search.best_estimator_"
   ]
  },
  {
   "cell_type": "code",
   "execution_count": null,
   "metadata": {
    "colab": {
     "base_uri": "https://localhost:8080/",
     "height": 33
    },
    "colab_type": "code",
    "id": "6xR1UVgZJAAe",
    "outputId": "15de1ee7-369f-4279-eaaa-18e904dde968"
   },
   "outputs": [
    {
     "name": "stdout",
     "output_type": "stream",
     "text": [
      "rand_forest1.sav  has been saved to drive!\n"
     ]
    }
   ],
   "source": [
    "save_model(rand_forest1, 'rand_forest1')"
   ]
  },
  {
   "cell_type": "code",
   "execution_count": null,
   "metadata": {
    "colab": {},
    "colab_type": "code",
    "id": "Taicp-AuGkjI"
   },
   "outputs": [],
   "source": [
    "rand_forest1 = random_search.best_estimator_"
   ]
  },
  {
   "cell_type": "code",
   "execution_count": null,
   "metadata": {
    "colab": {},
    "colab_type": "code",
    "id": "YqUbFyR75_H_"
   },
   "outputs": [],
   "source": [
    "y_pred = rand_forest1.predict(X_test)"
   ]
  },
  {
   "cell_type": "code",
   "execution_count": null,
   "metadata": {
    "colab": {
     "base_uri": "https://localhost:8080/",
     "height": 84
    },
    "colab_type": "code",
    "id": "xgFHygrNGkjL",
    "outputId": "fcb63434-5fb9-4638-c8a0-04e931eb5eed"
   },
   "outputs": [
    {
     "name": "stdout",
     "output_type": "stream",
     "text": [
      "r2 score: 0.85\n",
      "mse: 0.8246711570344025 rmse: 0.9081140660921416\n",
      "mean_error: 0.5701013832010858\n",
      "median_error: 0.34357638888888886\n"
     ]
    }
   ],
   "source": [
    "print('r2 score: %.2f' % r2_score(y_test, y_pred))\n",
    "\n",
    "mse = mean_squared_error(y_test, y_pred)\n",
    "\n",
    "rmse = np.sqrt(mse)\n",
    "\n",
    "print('mse:',mse,'rmse:', rmse)\n",
    "\n",
    "print('mean_error:',mean_absolute_error(y_test, y_pred))\n",
    "\n",
    "print('median_error:' , median_absolute_error(y_test, y_pred))"
   ]
  },
  {
   "cell_type": "code",
   "execution_count": null,
   "metadata": {
    "colab": {},
    "colab_type": "code",
    "id": "59XmyS3Cso_s"
   },
   "outputs": [],
   "source": [
    "pca = decomposition.PCA(n_components = 7)\n",
    "data_X = pca.fit_transform(data_X)\n",
    "X_train, X_test, y_train, y_test = train_test_split(data_X, data_y, test_size=0.2, random_state=42)"
   ]
  },
  {
   "cell_type": "code",
   "execution_count": null,
   "metadata": {
    "colab": {},
    "colab_type": "code",
    "id": "GznzmXkgS4OT"
   },
   "outputs": [],
   "source": [
    "random_search.fit(X_train, y_train)"
   ]
  },
  {
   "cell_type": "code",
   "execution_count": null,
   "metadata": {
    "colab": {
     "base_uri": "https://localhost:8080/",
     "height": 84
    },
    "colab_type": "code",
    "id": "-v_55vKfrDRF",
    "outputId": "ed22a191-3eb0-4630-8679-985dddf28148"
   },
   "outputs": [
    {
     "name": "stdout",
     "output_type": "stream",
     "text": [
      "r2 score: 0.67\n",
      "mse: 1.7760819451034653 rmse: 1.332697244352019\n",
      "mean_error: 0.6692210707558803\n",
      "median_error: 0.3877106314736656\n"
     ]
    }
   ],
   "source": [
    "rand_forest2 = random_search.best_estimator_\n",
    "y_pred = rand_forest2.predict(X_test)\n",
    "print('r2 score: %.2f' % r2_score(y_test, y_pred))\n",
    "\n",
    "mse = mean_squared_error(y_test, y_pred)\n",
    "\n",
    "rmse = np.sqrt(mse)\n",
    "\n",
    "print('mse:',mse,'rmse:', rmse)\n",
    "\n",
    "print('mean_error:',mean_absolute_error(y_test, y_pred))\n",
    "\n",
    "print('median_error:' , median_absolute_error(y_test, y_pred))"
   ]
  },
  {
   "cell_type": "code",
   "execution_count": null,
   "metadata": {
    "colab": {},
    "colab_type": "code",
    "id": "G1jCow6hleyY"
   },
   "outputs": [],
   "source": []
  }
 ],
 "metadata": {
  "accelerator": "TPU",
  "colab": {
   "name": "Copy of Modeling3.ipynb",
   "provenance": [],
   "version": "0.3.2"
  },
  "kernelspec": {
   "display_name": "Python 3",
   "language": "python",
   "name": "python3"
  },
  "language_info": {
   "codemirror_mode": {
    "name": "ipython",
    "version": 3
   },
   "file_extension": ".py",
   "mimetype": "text/x-python",
   "name": "python",
   "nbconvert_exporter": "python",
   "pygments_lexer": "ipython3",
   "version": "3.7.0"
  }
 },
 "nbformat": 4,
 "nbformat_minor": 2
}
