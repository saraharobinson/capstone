{
 "cells": [
  {
   "cell_type": "markdown",
   "metadata": {},
   "source": [
    "# The Question: Breweries, too many or not enough?"
   ]
  },
  {
   "cell_type": "markdown",
   "metadata": {},
   "source": [
    "In Santa Cruz, California, I have seen three new breweries pop up in the last year or so. Currently, there are about 9 breweries in an around Santa Cruz, and many more tap rooms and beer houses. Craft beer hype is on the rise, as shown in the plots below. However, not everywhere is as hyped about craft beer as California or Colorado. "
   ]
  },
  {
   "cell_type": "markdown",
   "metadata": {},
   "source": [
    "#stacked bar chart with S, M, L, XL breweries or line chart with all size groups\n",
    "\n",
    "<img src=\"brewery_sizes_overtime.png\">, <img src=\"topstates.png\">\n"
   ]
  },
  {
   "cell_type": "markdown",
   "metadata": {},
   "source": [
    "When looking at this data, these are the curiousities that come to mind:\n",
    "   - Under what conditions does the craft beer hype thrive?\n",
    "   - What determines how many craft breweries an area can sustain?\n",
    "   - Why are there so many more craft breweries in California?\n",
    "   - How many craft breweries can Santa Cruz actually support? \n",
    " \n",
    "These are the questions I set out to answer with a model, to identify the features with the most influence, and provide an estimate that brewery owners, or future brewery owners, can use to make decisions about the best locations for their establishment."
   ]
  },
  {
   "cell_type": "markdown",
   "metadata": {},
   "source": [
    "## The Data: Similarities between the American Census and swiss cheese. \n",
    "[Data cleaning and assembling](capstone_cleaning.ipynb)"
   ]
  },
  {
   "cell_type": "markdown",
   "metadata": {},
   "source": [
    "The data came primarily US Census using American Factfinder and from the Federal Reserve Economic Data (FRED) database. There were several different data sets of different granularity that were joined together to make the final dataframe, of shape 103 columns and 41,116 rows. Datasets were obtained at different granularities, and were merged by using a FIPS geocode relational table from the Census Bureau.  Other cleaning and wrangling steps included removing unnecessary columns, renaming columns for clarity, and checking for duplicates. \n",
    "\n",
    "One of the greatest challenges with this dataset was the large holes of missing data. Steps were taken to impute a reasonable amount of values, and the rest were dropped, resulting in a dataframe only 20% of its origninal size. Brief summaries of the different sources and feature types are included below. A notebook outlining the steps and code for the dataprocessing can be found here: [link!!!]\n",
    "\n",
    "The target variable here is small breweries, of 19 or less employees. Although it is not explicitly a representation of craft breweries, it was as close as I could get with the available data. \n"
   ]
  },
  {
   "cell_type": "markdown",
   "metadata": {},
   "source": [
    "##### Number of establishments by business type and size.\n",
    "This data was gathered from the Business Patterns survey of the US Census for years 2012 - 2016 as a csv. In addition to breweries, I also selected data about business types I hypothesised would be related, i.e. Bike shops, book stores, colleges and universities, etc. Initially there were 9 size groups based on the number of employees. I consolidated these groups to 4 size groups: Small, Medium, Large, XL. Below is a plot of the distribution of business types within each size group. The lines indicate how the groups were combined to form small, medium, large, and XL business sizes. "
   ]
  },
  {
   "cell_type": "markdown",
   "metadata": {},
   "source": [
    "<img src=\"sizegroups.png\">"
   ]
  },
  {
   "cell_type": "markdown",
   "metadata": {},
   "source": [
    "##### Demographics: age, population, income, GDP per capita\n",
    "Each category of demographic data - age, population, income - was downloaded as csvs from the Census Bureau’s American Community Survey (ACS). Age data contains the Median Age, female median age, and male median age.Income data contains median and mean household income. Population data contains total estimated population. All of this data is by zip code for years 2012 to 2016. The GDP per capita data set came from the FRED database. GDP per capita is given at state level, for years 2012-2016."
   ]
  },
  {
   "cell_type": "markdown",
   "metadata": {},
   "source": [
    "##### Industry Contribution to GDP as percent. \n",
    "This data, also from FRED, was orginally displayed as Industry contribution to GDP. To avoid excessive correlation between all of these variables, and to account for inflation, I converted them to percentages of the whole gdp. Because many of the Industry Contribution data had missing entries, I deleted the columns where more than half of the values were null. "
   ]
  },
  {
   "cell_type": "markdown",
   "metadata": {},
   "source": [
    "## Feature Exploration, i.e. What kind of people drink Craft Beer?\n",
    "\n",
    "[Full EDA process here](capstone_eda.ipynb)"
   ]
  },
  {
   "cell_type": "markdown",
   "metadata": {},
   "source": [
    "To introduce the variables that favor small breweries and the relationships among them, I have included a heatmap of correlation coeffients below. The target variable, Breweries_Small, is highlighted in yellow."
   ]
  },
  {
   "cell_type": "markdown",
   "metadata": {},
   "source": [
    "<img src=\"corr_heatmap.png\">\n"
   ]
  },
  {
   "cell_type": "markdown",
   "metadata": {},
   "source": [
    "#### Discovery #1: Zipcodes only make sense to the mailman\n",
    "\n",
    "Zipcodes were created to help the postal service deliver mail more efficiently, there is no standard to the way they are organized. Additionally, it seems likely that a consumer will travel into another zipcode to spend money. I travel through three or four zipcodes on my 25 minute drive to work. Initially, the data was grouped by year and zipcode. When ploted, this data seemed random, with out any clear patterns or trends. \n",
    "\n",
    "When aggregated by county, the data became coherent and clear trends could be observed. Although this shrunk the size of the dataset to only 6,800 rows, the boost in model accuracy seemed like an acceptable trade off. "
   ]
  },
  {
   "cell_type": "markdown",
   "metadata": {},
   "source": [
    "#### Discovery #2: More people = More beer, and generally more of everything else. "
   ]
  },
  {
   "cell_type": "markdown",
   "metadata": {},
   "source": [
    "<img src=\"population_smallbrew.png\"> , <img src=\"population_hist.png\"> \n",
    "\n"
   ]
  },
  {
   "cell_type": "markdown",
   "metadata": {},
   "source": [
    "According to the correlation matrix, population has the greatest correlation to number of small breweries within a county. In the plot above, there's a nice, clean upward trend. Ultimately this is more of a sanity check than a discovery, you would expect a larger population to support a greater number of establishments. The color and size of the bubbles represents GDP per capita, which does not appears to have the same relationship to number of breweries (this will come up again later). \n",
    "\n",
    "Santa Cruz County is highlighted in orange and yellow, right in the middle of the pack. There are five points for each year, 2012 to 2016.\n",
    "\n",
    "The establishment features, such as number of colleges, sports, stores and museums also have a positive relationship to number of breweries population. In the plots below, bubble size and color will be a represenation of population. Santa Cruz is highlight in these plots and future plots to give some context. \n"
   ]
  },
  {
   "cell_type": "markdown",
   "metadata": {},
   "source": [
    "<img src=\"establishments.png\">\n",
    "\n"
   ]
  },
  {
   "cell_type": "markdown",
   "metadata": {},
   "source": [
    "These three establishment types follow the positive trend you might expect. College students and beer seem to go comically hand in hand, as do sports (or at least fans of them). And museums, although maybe not as obviously, make sense as well. Both sporting goods stores and museums are indicators of recreation and leisure, which one might associate with beer. Museums are also indicative of some level of culture and art, which could also be said of craft beer.  \n",
    "\n",
    "Population, represented by bubble color and size, has a positive relationship with the establishment types as well. As the bubbles get larger (for the most part) as both the x and y axis increase, which one might logically expect. There are a handfull of counties with a much larger population than all the rest, LA, San Diego, and Denver county among them. These kinda-outliers appear throughout the rest of the data, and end up skewing the appearance of many other trends.  "
   ]
  },
  {
   "cell_type": "markdown",
   "metadata": {},
   "source": [
    "### Discovery #3: The Goldilocks Zone for breweries"
   ]
  },
  {
   "cell_type": "markdown",
   "metadata": {},
   "source": [
    "In astrobiology, the habital zone (not too hot, not too cold) around a star is refered to as the Goldilocks Zone. I would theorize that a similar phenomenon exists for a small breweries, with the bourgeoisie on one end, and working class america on the other. This (therorized) Goldilocks Zone is characterized by a slightly younger crowd, where income and income inequality are slightly above average, and where the economic output (GDP) is high, but not too high. \n",
    "\n",
    "This theory is derived from the plots below. The obserable trends in these demographic features are much less linear than those of the previous features. For most of them, there appears to be some kind of sweet spot, a Goldilockz Zone, where the number of small brewries spikes. The sharp spike appears to be driven, at least in part, by the large population of counties that encompass a city. For that reason, a subset of the data with a population < 100,000 is plotted alongside. The 2D histograms is included to visually compare the location of this spike to the bulk of the data points."
   ]
  },
  {
   "cell_type": "markdown",
   "metadata": {},
   "source": [
    "<img src = \"f_age_kde.png\">\n",
    "<img src = \"m_age_ked.png\">"
   ]
  },
  {
   "cell_type": "markdown",
   "metadata": {},
   "source": [
    "What I find interesting here, is that in both cases ( though with female age more than male), the spike in number of breweries is positioned at a slightly younger age the where the data points are the most dense. Counties with very high poplations appear to be driving this left skewed spike. It seems likely that there would be a greater number of young people in highly populated areas. In less populated areas, there is a more mound like distribution, which still implies an ideal range for breweries, just larger than the spike would suggest. "
   ]
  },
  {
   "cell_type": "markdown",
   "metadata": {},
   "source": [
    "<img src = \"income_med_kde.png\">\n",
    "<img src = \"income_gap_kde.png\">"
   ]
  },
  {
   "cell_type": "markdown",
   "metadata": {},
   "source": [
    "Income gap has an espcially ennunciated upward trend leaking to a drop off around 30,000. Here, income gap is defined as the difference between the mean and median income for that county. The subset of smaller populations has a similar shape, suggesting that it is not soley population driving this trend. Santa Cruz, a desirable and expensive place to live, as well as tourist destination, is plotted around that same value. Coincidence? I think not. \n"
   ]
  },
  {
   "cell_type": "markdown",
   "metadata": {},
   "source": [
    "<img src = \"gdp_kde.png\">\n"
   ]
  },
  {
   "cell_type": "markdown",
   "metadata": {},
   "source": [
    "GDP per capita, as we saw earlier, appears somewhat independant from population, unlike many of the features we have seen so far. The bubble size along the x-axis seems fairly mixed, yet the spike is dominated by highly populated counties. When the largest populations are removed, GDP seems to have almost no impact on number of breweries. However, for Santa Cruz, the data points have an almost logarithmic like curve. \n",
    "\n",
    "In each of the plots above, there appears to be two different populations at play that may or may not exhibit different relationships to number of breweries. One, is the highly populated counties that encompass a city. The other, is the smaller town counties, with populations of 100,000 or less. These are the small purple spots that form the densest part of the plots. This population appears to have a similar goldilocks-like distribution that is much less pronounced."
   ]
  },
  {
   "cell_type": "markdown",
   "metadata": {},
   "source": [
    "### Discovery #4: Breweries are associated with leisure and recreation, who knew..."
   ]
  },
  {
   "cell_type": "markdown",
   "metadata": {},
   "source": [
    "The next set of features is industry contribution to total GDP, as a percentage of the whole. Twenty-six non giberish industry features used in the final dataset. I selected six intresting ones to plot below. The y-axis is the number of small breweries, the x-axis is the industry type given in the title, and the color/size is again population. "
   ]
  },
  {
   "cell_type": "markdown",
   "metadata": {},
   "source": [
    "\n",
    "<img src = \"industry_plots.png\">\n"
   ]
  },
  {
   "cell_type": "markdown",
   "metadata": {},
   "source": [
    "Firstly, you might expect to see a positive relationship to 'Arts, entertainmnet, and recreation'. I believe that is what is happening here, as there appears to be a steap, positive slope. I would hypothesize that the outliers (the small town populations always at the bottom) skew the distribution in this way. Likewise, I would say there is a similar phenomenon with Educational services, as we have previously seen a positve relationship between Colleges and breweries. The real estate industry shows a positive relationship as well, which would make sense, as the places where people go for leisure and recreation tend to be more expensive places to live. \n",
    "\n",
    "In constrast, the 'Natural resources and mining' industry has a very negative relationship to breweries. Natural resource mining is not something I would equate with a desirable place, so fits into the narrative that there is a positive relationship to leisure and recreation, and a negative relationship to anti-recreation/leisure industries, like goods-producing. Services-providing however, does fit the narrative and we see a positive trend. \n"
   ]
  },
  {
   "cell_type": "markdown",
   "metadata": {},
   "source": [
    "## Modeling aka well educated guessing"
   ]
  },
  {
   "cell_type": "markdown",
   "metadata": {},
   "source": [
    "##### Choosing a model"
   ]
  },
  {
   "cell_type": "markdown",
   "metadata": {},
   "source": [
    "<img src = \"Machine Learning.png\">\n",
    "\n"
   ]
  },
  {
   "cell_type": "markdown",
   "metadata": {},
   "source": [
    "To choose a model, I tested 5 different regressions on the dataset with 4 different scalers each and no hyper parameter tuning.\n",
    "\n",
    "The top result for each regression are below, chosen by least Mean Absolute Error becuase it is less affected by outliers. The notebook with the complete results: [Model Choice](model_choice.ipynb)"
   ]
  },
  {
   "cell_type": "markdown",
   "metadata": {},
   "source": [
    "<img src = \"regression_test.png\" width = \"400\">"
   ]
  },
  {
   "cell_type": "markdown",
   "metadata": {},
   "source": [
    "The next step I took was to use randomgrid search to tune the hyper parameters. The notebook for that process is here: [Model Tuning](Model_tuning.ipynb) I did random grid search several times, using the best results from the previous search to narrow the parameters for the next. The best scoring model had the following results: \n",
    "\n",
    "**Final Model Performance**\n",
    "<br>adjusted r2: 0.81\n",
    "<br>RMSE: 1.23\n",
    "<br>MAE: 0.57"
   ]
  },
  {
   "cell_type": "markdown",
   "metadata": {},
   "source": [
    "## If I could do it all again..."
   ]
  },
  {
   "cell_type": "markdown",
   "metadata": {},
   "source": [
    "The census data had an extrodinary amount of missing data, resulting in a data set much smaller than ideal. There is an organizations, the Craft Brewers Association, which has a data on all of the registered craft breweries as well as relevant economic data. This data likely would have lead to a much more promising model, as they have published a handful of economic studies around craft breweries as well. An additional place I would've like to scrape data from, is the Google places API, which could've provided much more detailed geographic data (specific coordinates) which would have allowed for complex geographic relationship analysis. Google places data would also likely have been more accurate. \n",
    "\n",
    "For this data set, I would have liked to try other, more complex imputation methods for the missing data. Additionally, I think it would be worth it to investigate gradient boosting. Another thing that came to mind durint this investigation, was to try and remove the effects of population on all of the other features by using breweries per capita as the target variable. There seemed to be at least two different populations in the data set that each had their own set of trends, I would've like to look into that more. I think political preferences would have been an interesting feature to look into as well. \n",
    "\n",
    "Over all, I find this to be a very interesting dataset. When a specific industry is on the rise, like craft brewing, its useful to understand the factors influence, or make room for that trend."
   ]
  }
 ],
 "metadata": {
  "kernelspec": {
   "display_name": "Python 3",
   "language": "python",
   "name": "python3"
  },
  "language_info": {
   "codemirror_mode": {
    "name": "ipython",
    "version": 3
   },
   "file_extension": ".py",
   "mimetype": "text/x-python",
   "name": "python",
   "nbconvert_exporter": "python",
   "pygments_lexer": "ipython3",
   "version": "3.7.0"
  }
 },
 "nbformat": 4,
 "nbformat_minor": 2
}
